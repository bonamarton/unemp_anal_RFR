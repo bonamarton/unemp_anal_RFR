{
 "cells": [
  {
   "cell_type": "markdown",
   "metadata": {},
   "source": [
    "\n",
    "# USA Unemployment analysis with ScikitLearn RF Regressor\n",
    "\n"
   ]
  },
  {
   "cell_type": "code",
   "execution_count": 1,
   "metadata": {},
   "outputs": [
    {
     "data": {
      "text/html": [
       "<script>\n",
       "code_show=true; \n",
       "function code_toggle() {\n",
       " if (code_show){\n",
       " $('div.input').hide();\n",
       " } else {\n",
       " $('div.input').show();\n",
       " }\n",
       " code_show = !code_show\n",
       "} \n",
       "$( document ).ready(code_toggle);\n",
       "</script>\n",
       "<form action=\"javascript:code_toggle()\"><input type=\"submit\" value=\"Toggle code.\"></form>"
      ],
      "text/plain": [
       "<IPython.core.display.HTML object>"
      ]
     },
     "execution_count": 1,
     "metadata": {},
     "output_type": "execute_result"
    }
   ],
   "source": [
    "\n",
    "from IPython.display import HTML\n",
    "\n",
    "HTML('''<script>\n",
    "code_show=true; \n",
    "function code_toggle() {\n",
    " if (code_show){\n",
    " $('div.input').hide();\n",
    " } else {\n",
    " $('div.input').show();\n",
    " }\n",
    " code_show = !code_show\n",
    "} \n",
    "$( document ).ready(code_toggle);\n",
    "</script>\n",
    "<form action=\"javascript:code_toggle()\"><input type=\"submit\" value=\"Toggle code.\"></form>''')\n"
   ]
  },
  {
   "cell_type": "markdown",
   "metadata": {},
   "source": [
    "## 0. Import"
   ]
  },
  {
   "cell_type": "code",
   "execution_count": 2,
   "metadata": {
    "collapsed": true
   },
   "outputs": [],
   "source": [
    "import pandas as pd\n",
    "import numpy as np\n",
    "\n",
    "import matplotlib\n",
    "import matplotlib.pyplot as plt\n",
    "from IPython.display import display\n",
    "from IPython.core.pylabtools import figsize, getfigs\n",
    "%matplotlib inline\n",
    "\n",
    "import sklearn\n",
    "from sklearn.model_selection import train_test_split\n",
    "from sklearn.ensemble import RandomForestRegressor\n",
    "\n",
    "from numpy import corrcoef\n",
    "from time import clock\n",
    "\n",
    "from sklearn import tree\n",
    "from sklearn.tree import export_graphviz"
   ]
  },
  {
   "cell_type": "markdown",
   "metadata": {
    "collapsed": true
   },
   "source": [
    "\n",
    "\n",
    "## 1. Data input\n",
    "\n"
   ]
  },
  {
   "cell_type": "code",
   "execution_count": 3,
   "metadata": {
    "scrolled": true
   },
   "outputs": [
    {
     "name": "stdout",
     "output_type": "stream",
     "text": [
      "         pop  unempRateWords\n",
      "fips                        \n",
      "1003  200111          5.9250\n",
      "1005   26887         11.4750\n",
      "1007   22506          7.1000\n",
      "1009   57719          6.0625\n",
      "1011   10764         11.7500 \n",
      "\n",
      " (2956, 2)\n"
     ]
    }
   ],
   "source": [
    "\n",
    "##  Unemployment rates  //words dataset\n",
    "\n",
    "unemp = pd.read_csv(\"unemp_small.csv\", sep=\"\\t\", header = None)\n",
    "unemp.columns = [\"fips\", \"pop\", \"unempRateWords\"]\n",
    "\n",
    "unempPivot = unemp.pivot_table(index=\"fips\",values=[\"unempRateWords\",\"pop\"]).copy()\n",
    "unempPivot.drop_duplicates(subset=\"pop\", keep=False, inplace=True)\n",
    "\n",
    "print(unempPivot.head(), '\\n\\n', unempPivot.shape)"
   ]
  },
  {
   "cell_type": "code",
   "execution_count": 4,
   "metadata": {},
   "outputs": [
    {
     "name": "stdout",
     "output_type": "stream",
     "text": [
      "      employed  unempRateAct\n",
      "fips                        \n",
      "1001     24111           5.9\n",
      "1003     81131           6.1\n",
      "1005      7917          10.6\n",
      "1007      7946           7.2\n",
      "1009     23036           6.1 \n",
      "\n",
      " (3219, 2)\n"
     ]
    },
    {
     "name": "stderr",
     "output_type": "stream",
     "text": [
      "C:\\Program Files\\Python\\lib\\site-packages\\ipykernel_launcher.py:5: ParserWarning: Falling back to the 'python' engine because the 'c' engine does not support regex separators (separators > 1 char and different from '\\s+' are interpreted as regex); you can avoid this warning by specifying engine='python'.\n",
      "  \"\"\"\n"
     ]
    }
   ],
   "source": [
    "\n",
    "##  Unemployment rates  //acticity dataset\n",
    "\n",
    "unemp2 = pd.read_table(\"laucnty14.txt\",sep=r'\\s{2,}',header=None,usecols=[1,2,5,6,7,8,9],\n",
    "         converters={1: np.str, 2: np.str, 8: np.float64})\n",
    "#print(unemp2.head(),'\\n\\n')\n",
    "\n",
    "unemp2.columns = [\"fip1\", \"fip2\", \"laborForce\", \"employed\", \"unemployed\", \"unempRateAct\"]\n",
    "unemp2[\"fips\"] = unemp2[\"fip1\"] + unemp2[\"fip2\"]\n",
    "unemp2[\"fips\"] = unemp2[\"fips\"].astype(int)\n",
    "unemp2[\"laborForce\"] = unemp2[\"laborForce\"].apply(lambda s: s.replace(',','')).astype(int)\n",
    "unemp2[\"unemployed\"] = unemp2[\"unemployed\"].apply(lambda s: s.replace(',','')).astype(int)\n",
    "unemp2[\"employed\"] = unemp2[\"employed\"].apply(lambda s: s.replace(',','')).astype(int)\n",
    "\n",
    "unemp2Pivot = unemp2.pivot_table(index=\"fips\", values=[\"unempRateAct\",\"employed\"]).copy()\n",
    "\n",
    "print(unemp2Pivot.head(), '\\n\\n', unemp2Pivot.shape)"
   ]
  },
  {
   "cell_type": "code",
   "execution_count": 5,
   "metadata": {},
   "outputs": [
    {
     "name": "stdout",
     "output_type": "stream",
     "text": [
      "        empRate  unempRateAct  unempRateWords\n",
      "fips                                         \n",
      "1003  40.542999           6.1          5.9250\n",
      "1005  29.445457          10.6         11.4750\n",
      "1007  35.306141           7.2          7.1000\n",
      "1009  39.910601           6.1          6.0625\n",
      "1011  40.096618           8.8         11.7500 \n",
      "\n",
      " (2954, 3)\n"
     ]
    }
   ],
   "source": [
    "\n",
    "##  Unemployment Data  //merge\n",
    "\n",
    "# ! Unemployment rate based on labor force, employment rate based on population !\n",
    "# ! activity dataset and words dataset has different unemployment rates !\n",
    "\n",
    "unempData = pd.merge(unempPivot,unemp2Pivot, how='inner', left_index=True, right_index=True).copy()\n",
    "#print(unempData.head(),'\\n\\n')\n",
    "\n",
    "unempData[\"empRate\"] = 100 * unempData[\"employed\"] / unempData[\"pop\"]\n",
    "unempData.drop([\"pop\",\"employed\"], axis=1, inplace=True)\n",
    "unempData.sort_index(level=0, axis=0, ascending=True, inplace=True, sort_remaining=False)\n",
    "unempData.sort_index(level=0, axis=1, ascending=True, inplace=True, sort_remaining=False)\n",
    "\n",
    "print(unempData.head(), '\\n\\n', unempData.shape)"
   ]
  },
  {
   "cell_type": "code",
   "execution_count": 6,
   "metadata": {},
   "outputs": [
    {
     "name": "stdout",
     "output_type": "stream",
     "text": [
      "    fips     word  cnt   totcnt      freq\n",
      "0  48473    aaron    2    95626  0.000021\n",
      "1  39095     abby   17   816992  0.000021\n",
      "2  34033  ability    5   113270  0.000044\n",
      "3   1127    aaron    5    90625  0.000055\n",
      "4   6071     abby   30  3152613  0.000010 \n",
      "\n",
      " (6557665, 5)\n"
     ]
    }
   ],
   "source": [
    "\n",
    "##  Word frequency Data (BIG FILE !!!)\n",
    "\n",
    "words = pd.read_csv(\"unemp_training_set.csv\", header = None)\n",
    "words.columns = [\"fips\", \"word\", \"cnt\", \"totcnt\"]\n",
    "words[\"word\"] = words[\"word\"].apply(lambda s: s.lower())\n",
    "words[\"freq\"] = words.apply(lambda row: row[\"cnt\"]/row[\"totcnt\"], axis = 1)\n",
    "\n",
    "print(words.head(), '\\n\\n', words.shape)"
   ]
  },
  {
   "cell_type": "code",
   "execution_count": 7,
   "metadata": {},
   "outputs": [
    {
     "name": "stdout",
     "output_type": "stream",
     "text": [
      "        empRate  unempRateWords     aaron      abby   ability      able  \\\n",
      "fips                                                                      \n",
      "1003  40.542999          5.9250  0.000042  0.000021  0.000017  0.000431   \n",
      "1009  39.910601          6.0625  0.000026  0.000052  0.000052  0.000442   \n",
      "1013  41.791486          8.7875  0.000000  0.000034  0.000034  0.000309   \n",
      "1015  37.520273          7.7000  0.000014  0.000024  0.000005  0.000360   \n",
      "1017  41.921000          7.1125  0.000000  0.000015  0.000015  0.000362   \n",
      "\n",
      "         about     above  absolute  absolutely    ...         youu     yummy  \\\n",
      "fips                                              ...                          \n",
      "1003  0.005418  0.000088  0.000029    0.000222    ...     0.000050  0.000038   \n",
      "1009  0.006998  0.000000  0.000026    0.000364    ...     0.000104  0.000000   \n",
      "1013  0.006377  0.000240  0.000000    0.000069    ...     0.000000  0.000000   \n",
      "1015  0.005733  0.000072  0.000077    0.000163    ...     0.000091  0.000019   \n",
      "1017  0.006019  0.000106  0.000030    0.000106    ...     0.000196  0.000015   \n",
      "\n",
      "          yung      zach      zack      zayn      zero    zombie   zombies  \\\n",
      "fips                                                                         \n",
      "1003  0.000100  0.000100  0.000033  0.000000  0.000071  0.000021  0.000004   \n",
      "1009  0.000000  0.000000  0.000000  0.000026  0.000078  0.000000  0.000026   \n",
      "1013  0.000034  0.000069  0.000000  0.000000  0.000034  0.000000  0.000034   \n",
      "1015  0.000048  0.000062  0.000010  0.000000  0.000048  0.000005  0.000010   \n",
      "1017  0.000015  0.000015  0.000045  0.000000  0.000045  0.000015  0.000000   \n",
      "\n",
      "          zone  \n",
      "fips            \n",
      "1003  0.000084  \n",
      "1009  0.000052  \n",
      "1013  0.000034  \n",
      "1015  0.000086  \n",
      "1017  0.000151  \n",
      "\n",
      "[5 rows x 5987 columns] \n",
      "\n",
      " (1301, 5987)\n"
     ]
    }
   ],
   "source": [
    "wordsPivot = words.pivot_table(columns=\"word\",index=\"fips\",values=\"freq\").copy()\n",
    "wordsPivot.fillna(0, inplace=True)\n",
    "wordsPivot.sort_index(level=0, axis=0, ascending=True, inplace=True, sort_remaining=False)\n",
    "wordsPivot.sort_index(level=0, axis=1, ascending=True, inplace=True, sort_remaining=False)\n",
    "#print(wordsPivot.head(),'\\n\\n')\n",
    "\n",
    "wordsData = pd.merge(unempData ,wordsPivot, how='inner', left_index=True, right_index=True).copy()\n",
    "wordsData.drop(\"unempRateAct\", axis=1, inplace=True)\n",
    "wordsData.sort_index(level=0, axis=0, ascending=True, inplace=True, sort_remaining=False)\n",
    "\n",
    "print(wordsData.head(), '\\n\\n', wordsData.shape)"
   ]
  },
  {
   "cell_type": "code",
   "execution_count": 8,
   "metadata": {},
   "outputs": [
    {
     "name": "stdout",
     "output_type": "stream",
     "text": [
      "        empRate  unempRateAct         0         1         2         3  \\\n",
      "fips                                                                    \n",
      "1003  40.542999           6.1  0.068764  0.048920  0.027950  0.015420   \n",
      "1007  35.306141           7.2  0.049163  0.040795  0.030858  0.031381   \n",
      "1009  39.910601           6.1  0.057902  0.038271  0.022435  0.008743   \n",
      "1013  41.791486           8.6  0.055371  0.036446  0.022954  0.012616   \n",
      "1015  37.520273           8.0  0.074314  0.064947  0.043261  0.027678   \n",
      "\n",
      "             4         5         6         7      ...             15  \\\n",
      "fips                                              ...                  \n",
      "1003  0.008567  0.005472  0.011456  0.020228      ...       0.038333   \n",
      "1007  0.020921  0.007845  0.019874  0.022490      ...       0.042887   \n",
      "1009  0.005279  0.005444  0.016331  0.019630      ...       0.041405   \n",
      "1013  0.005782  0.006133  0.019450  0.023655      ...       0.043806   \n",
      "1015  0.013726  0.008691  0.010576  0.015330      ...       0.035272   \n",
      "\n",
      "            16        17        18        19        20        21        22  \\\n",
      "fips                                                                         \n",
      "1003  0.040020  0.043805  0.049942  0.057282  0.062524  0.070093  0.078276   \n",
      "1007  0.052824  0.035565  0.063285  0.078975  0.075314  0.075837  0.077406   \n",
      "1009  0.046684  0.048499  0.061531  0.064500  0.078522  0.092379  0.102936   \n",
      "1013  0.050464  0.040652  0.053969  0.064132  0.077274  0.093569  0.080252   \n",
      "1015  0.034400  0.042051  0.048352  0.052261  0.059828  0.063428  0.077605   \n",
      "\n",
      "            23  messageCount  \n",
      "fips                          \n",
      "1003  0.079095       39105.0  \n",
      "1007  0.064331        1912.0  \n",
      "1009  0.075388        6062.0  \n",
      "1013  0.065183        5707.0  \n",
      "1015  0.081543       35552.0  \n",
      "\n",
      "[5 rows x 27 columns] \n",
      "\n",
      " (1823, 27)\n"
     ]
    }
   ],
   "source": [
    "\n",
    "##  Activity data\n",
    "\n",
    "activ = pd.read_csv(\"raw_data.csv\", sep=\",\", header = None)\n",
    "activ.columns = [\"fips\", \"hour\", \"activity\"]\n",
    "#print(activ.head(), \"\\n\\n\")\n",
    "\n",
    "activPivot = activ.pivot_table(index=\"fips\", columns=\"hour\", values=\"activity\").copy()\n",
    "activPivot.fillna(0, inplace=True)\n",
    "activPivot.sort_index(level=0, axis=1, ascending=True, inplace=True, sort_remaining=False)\n",
    "#print(activPivot.head(), \"\\n\\n\")\n",
    "\n",
    "activPivot[\"messageCount\"] = activPivot.sum(numeric_only=True, axis=1)\n",
    "activPivot = activPivot[activPivot[\"messageCount\"] > 1800]\n",
    "activPivot.iloc[:,:-1] = activPivot.iloc[:,:-1].div(activPivot[\"messageCount\"], axis=0)\n",
    "#print(activPivot.head(), \"\\n\\n\")\n",
    "\n",
    "activData = pd.merge(unempData ,activPivot, how='inner', left_index=True, right_index=True).copy()\n",
    "activData.drop(\"unempRateWords\", axis=1, inplace=True)\n",
    "activData.sort_index(level=0, axis=0, ascending=True, inplace=True, sort_remaining=False)\n",
    "\n",
    "print(activData.head(), '\\n\\n', activData.shape)"
   ]
  },
  {
   "cell_type": "markdown",
   "metadata": {},
   "source": [
    "## 2. Data for ML"
   ]
  },
  {
   "cell_type": "code",
   "execution_count": 9,
   "metadata": {},
   "outputs": [
    {
     "name": "stdout",
     "output_type": "stream",
     "text": [
      "labelWordsUnemp:  [ 5.925   6.0625  8.7875  7.7     7.1125] (1301,) \n",
      "\n",
      "labelWordsEmp:  [ 40.54299864  39.91060136  41.79148601  37.5202733   41.92100012] (1301,) \n",
      "\n",
      "featuresWords_list:  ['aaron' 'abby' 'ability' ..., 'zombie' 'zombies' 'zone'] (5985,) \n",
      "\n",
      "featuresWords: \n",
      " [[  4.18366280e-05   2.09183140e-05   1.67346512e-05]\n",
      " [  2.60132147e-05   5.20264294e-05   5.20264294e-05]\n",
      " [  0.00000000e+00   3.42829716e-05   3.42829716e-05]\n",
      " [  1.44050014e-05   2.40083357e-05   4.80166714e-06]\n",
      " [  0.00000000e+00   1.50847764e-05   1.50847764e-05]] (1301, 5985) \n",
      "\n",
      "fipsWords_list:  [1003 1009 1013 1015 1017] (1301,) \n",
      "\n"
     ]
    }
   ],
   "source": [
    "\n",
    "##  WordsData\n",
    "\n",
    "labelWordsUnemp = (wordsData.unempRateWords.as_matrix()).copy()\n",
    "print (\"labelWordsUnemp: \", labelWordsUnemp[:5], labelWordsUnemp.shape,\"\\n\")\n",
    "\n",
    "labelWordsEmp = (wordsData.empRate.as_matrix()).copy()\n",
    "print (\"labelWordsEmp: \", labelWordsEmp[:5], labelWordsEmp.shape,\"\\n\")\n",
    "\n",
    "featuresWords_list = wordsData.columns.values[2:].copy()\n",
    "print (\"featuresWords_list: \", featuresWords_list, featuresWords_list.shape,\"\\n\")\n",
    "\n",
    "featuresWords = (wordsData.iloc[:,2:].as_matrix()).copy()\n",
    "print (\"featuresWords: \\n\", featuresWords[:5,:3], featuresWords.shape,\"\\n\")\n",
    "\n",
    "fipsWords_list = (wordsData.index.values[:]).copy()\n",
    "print (\"fipsWords_list: \", fipsWords_list[:5], fipsWords_list.shape,\"\\n\")"
   ]
  },
  {
   "cell_type": "code",
   "execution_count": 10,
   "metadata": {},
   "outputs": [
    {
     "name": "stdout",
     "output_type": "stream",
     "text": [
      "labelActivUnemp:  [ 6.1  7.2  6.1  8.6  8. ] (1823,) \n",
      "\n",
      "labelActivEmp:  [ 40.54299864  35.30614058  39.91060136  41.79148601  37.5202733 ] (1823,) \n",
      "\n",
      "featuresActiv_list:  [0 1 2 3 4 5 6 7 8 9 10 11 12 13 14 15 16 17 18 19 20 21 22 23] (24,) \n",
      "\n",
      "featuresActiv: \n",
      " [[ 0.06876359  0.04891958  0.02795039]\n",
      " [ 0.04916318  0.04079498  0.03085774]\n",
      " [ 0.05790168  0.0382712   0.02243484]\n",
      " [ 0.0553706   0.03644647  0.02295427]\n",
      " [ 0.07431368  0.06494712  0.04326058]] (1823, 24) \n",
      "\n",
      "fipsActiv_list:  [1003 1007 1009 1013 1015] (1823,) \n",
      "\n"
     ]
    }
   ],
   "source": [
    "\n",
    "##  ActivData\n",
    "\n",
    "labelActivUnemp = (activData.unempRateAct.as_matrix()).copy()\n",
    "print (\"labelActivUnemp: \", labelActivUnemp[:5], labelActivUnemp.shape,\"\\n\")\n",
    "\n",
    "labelActivEmp = (activData.empRate.as_matrix()).copy()\n",
    "print (\"labelActivEmp: \", labelActivEmp[:5], labelActivEmp.shape,\"\\n\")\n",
    "\n",
    "featuresActiv_list = (activData.columns.values[2:-1]).copy()\n",
    "print (\"featuresActiv_list: \", featuresActiv_list, featuresActiv_list.shape,\"\\n\")\n",
    "\n",
    "featuresActiv = (activData.iloc[:,2:-1].as_matrix()).copy()\n",
    "print (\"featuresActiv: \\n\", featuresActiv[:5,:3], featuresActiv.shape,\"\\n\")\n",
    "\n",
    "fipsActiv_list = (activData.index.values[:]).copy()\n",
    "print (\"fipsActiv_list: \", fipsActiv_list[:5], fipsActiv_list.shape,\"\\n\")\n",
    "\n",
    "#weight = (activData.iloc[:,-1].as_matrix()).copy()\n",
    "#print (\"weight: \", weight[:5], weight.shape,\"\\n\")"
   ]
  },
  {
   "cell_type": "code",
   "execution_count": 11,
   "metadata": {
    "collapsed": true
   },
   "outputs": [],
   "source": [
    "##  All output data:\n",
    "\n",
    "# labelWordsUnemp\n",
    "# labelWordsEmp\n",
    "# featuresWords_list\n",
    "# featuresWords\n",
    "# fipsWords_list\n",
    "\n",
    "# labelActivUnemp\n",
    "# labelActivEmp\n",
    "# featuresActiv_list\n",
    "# featuresActiv\n",
    "# fipsActiv_list"
   ]
  },
  {
   "cell_type": "markdown",
   "metadata": {},
   "source": [
    "## 3. Machine Learning"
   ]
  },
  {
   "cell_type": "markdown",
   "metadata": {},
   "source": [
    "### RF Regressor auto parameter tester"
   ]
  },
  {
   "cell_type": "code",
   "execution_count": 12,
   "metadata": {
    "collapsed": true
   },
   "outputs": [],
   "source": [
    "\n",
    "## Automatizalt parameter teszteles\n",
    "\n",
    "def autoParamSearch(features,labels,nEstimators,maxDepth,maxFeatures,file):\n",
    "    \n",
    "    X = features.copy()\n",
    "    y = labels.copy()\n",
    "    \n",
    "    for nE in nEstimators:\n",
    "        for mD in maxDepth:\n",
    "            for mF in maxFeatures:\n",
    "                \n",
    "                regr_rf = RandomForestRegressor(n_estimators=nE,max_depth=mD,max_features=mF,n_jobs=3)\n",
    "                corr = []\n",
    "                time = []\n",
    "                \n",
    "                for i in range(0,10):    \n",
    "                    X_train, X_test, y_train, y_test = train_test_split(X, y, test_size=0.5)\n",
    "                    t0 = clock()\n",
    "                    regr_rf.fit(X_train, y_train)\n",
    "                    t1 = clock()\n",
    "                    y_pred = regr_rf.predict(X_test)\n",
    "                    corr.append(corrcoef(y_test,y_pred)[0,1])\n",
    "                    time.append(t1-t0)\n",
    "                    \n",
    "                corr = np.array(corr)\n",
    "                err = (corr.max() - corr.min()) / 2\n",
    "                time = np.array(time)\n",
    "                file.write(\"%f %f %f %d %d %d\\n\" % (corr.mean(), err, time.mean(), nE, mD, mF))\n",
    "                \n",
    "    return 0\n"
   ]
  },
  {
   "cell_type": "code",
   "execution_count": 13,
   "metadata": {
    "collapsed": true
   },
   "outputs": [],
   "source": [
    "'''\n",
    "%%time\n",
    "\n",
    "## Parameterek tesztelese\n",
    "\n",
    "f = open(\"test.txt\",\"w\")\n",
    "\n",
    "nEstimators = [100]      #[100,1000]\n",
    "maxDepth = [12]         #[4,5,6,8,10,14,18]\n",
    "maxFeatures = [100]      #[80,1556,3032,4508,5985] # [6,8,10,12,14,16,18,20,22,24]\n",
    "\n",
    "returnVal = autoParamSearch(featuresWords,labelWordsEmp,nEstimators,maxDepth,maxFeatures,f)\n",
    "print(\"returnVal: \", returnVal)\n",
    "\n",
    "f.close()\n",
    "''';"
   ]
  },
  {
   "cell_type": "markdown",
   "metadata": {},
   "source": [
    "### RF Regressor for manual test"
   ]
  },
  {
   "cell_type": "code",
   "execution_count": 69,
   "metadata": {
    "collapsed": true
   },
   "outputs": [],
   "source": [
    "\n",
    "X = featuresActiv.copy()\n",
    "y = labelActivEmp.copy()\n",
    "\n",
    "X_train, X_test, y_train, y_test = train_test_split(X, y, test_size=0.5)\n"
   ]
  },
  {
   "cell_type": "code",
   "execution_count": 70,
   "metadata": {},
   "outputs": [
    {
     "name": "stdout",
     "output_type": "stream",
     "text": [
      "Correaltion:  0.440761161715 \n",
      "\n",
      "Wall time: 4.14 s\n"
     ]
    }
   ],
   "source": [
    "%%time\n",
    "\n",
    "regr_rf = RandomForestRegressor(n_estimators=1000, max_depth=12, max_features=5, n_jobs=3)\n",
    "regr_rf.fit(X_train, y_train)\n",
    "y_pred = regr_rf.predict(X_test)\n",
    "\n",
    "print(\"Correaltion: \", corrcoef(y_test,y_pred)[0,1], \"\\n\")"
   ]
  },
  {
   "cell_type": "code",
   "execution_count": 71,
   "metadata": {
    "collapsed": true
   },
   "outputs": [],
   "source": [
    "## Tree graph export to a .dot file (manual convert to png from termianl: \"dot -Tpng tree.dot -o tree.png\"\n",
    "#                                   require dot.exe (package dont inculde dot.exe) )\n",
    "'''\n",
    "tree.export_graphviz(regr_rf.estimators_[0], feature_names=featuresActiv_list, filled=True, rounded=True, out_file='tree.dot')\n",
    "''';"
   ]
  },
  {
   "cell_type": "markdown",
   "metadata": {},
   "source": [
    "### Predicted values plot"
   ]
  },
  {
   "cell_type": "code",
   "execution_count": 72,
   "metadata": {},
   "outputs": [
    {
     "data": {
      "image/png": "[encoded data removed]",
      "text/plain": [
       "<matplotlib.figure.Figure at 0xa80d2e8>"
      ]
     },
     "metadata": {},
     "output_type": "display_data"
    }
   ],
   "source": [
    "## Init\n",
    "\n",
    "project_name = \"test\"\n",
    "label = \"(Un)employment rate\"\n",
    "realVal = y_test\n",
    "predVal = y_pred\n",
    "\n",
    "## Plot (real value, predicted value)\n",
    "\n",
    "# fit_fn is a function which takes in x and returns an estimate for y\n",
    "fit = np.polyfit(realVal,predVal,1)\n",
    "fit_fn = np.poly1d(fit)\n",
    "x = np.linspace(0,100,10000) \n",
    "\n",
    "figsize(12,12)\n",
    "plt.plot(realVal,predVal,color='b',marker='.',ls='',ms=3,label=label)\n",
    "plt.plot(x,fit_fn(x),color='g',ls='--',lw=2,label='linear fit')\n",
    "plt.plot(x,x,color='k',ls='--',lw=2,label='x = y line')\n",
    "\n",
    "plt.title('%s prediction %s' % (label,project_name),fontsize=25)\n",
    "plt.xlabel('Real value',fontsize=25) \n",
    "plt.ylabel('Predicted value',fontsize=25)\n",
    "plt.legend(loc='lower right',fontsize=25)\n",
    "plt.xticks(fontsize=15)\n",
    "plt.yticks(fontsize=15)\n",
    "plt.grid(True)\n",
    "\n",
    "plt.xlim(0,70)\n",
    "plt.ylim(0,70);\n",
    "\n",
    "# plt.text(2, 11, 'Corr = 0.44 +- 0.06',color='b',fontsize=15)\n",
    "# plt.savefig(project_name+\"UnempPred.png\",dpi=120);"
   ]
  },
  {
   "cell_type": "markdown",
   "metadata": {},
   "source": [
    "###  Important features"
   ]
  },
  {
   "cell_type": "code",
   "execution_count": 73,
   "metadata": {},
   "outputs": [
    {
     "name": "stdout",
     "output_type": "stream",
     "text": [
      "\n",
      " 24 Important features(> 15 % of max importance):\n",
      " Features sorted by importance (DESC):\n",
      " [12 15 16 17 18 4 3 1 5 2 11 0 14 21 13 22 6 8 7 19 20 10 9 23]\n"
     ]
    },
    {
     "data": {
      "image/png": "[encoded data removed]",
      "text/plain": [
       "<matplotlib.figure.Figure at 0xa82d278>"
      ]
     },
     "metadata": {},
     "output_type": "display_data"
    }
   ],
   "source": [
    "\n",
    "MLalgo = regr_rf\n",
    "features_list = featuresActiv_list.copy()\n",
    "\n",
    "# make importances relative to max importance\n",
    "feature_importance = 100.0 * (MLalgo.feature_importances_ / MLalgo.feature_importances_.max())\n",
    " \n",
    "# A threshold below which to drop features from the final data set. Specifically, this number represents\n",
    "# the percentage of the most important feature's importance value\n",
    "fi_threshold = 15\n",
    " \n",
    "# Get the indexes of all features over the importance threshold\n",
    "important_idx = np.where(feature_importance > fi_threshold)[0]\n",
    " \n",
    "# Create a list of all the feature names above the importance threshold\n",
    "important_features = features_list[important_idx]\n",
    "#print (\"\\n\",important_features.shape[0],\"Important features(>\", fi_threshold, \"% of max importance):\\n\",\\important_features)\n",
    " \n",
    "# Get the sorted indexes of important features\n",
    "sorted_idx = np.argsort(feature_importance[important_idx])[::-1]\n",
    "print (\"\\n\", important_features.shape[0], \"Important features(>\", fi_threshold, \"% of max importance):\\n\",\n",
    "       \"Features sorted by importance (DESC):\\n\", important_features[sorted_idx])\n",
    " \n",
    "# Adapted from http://scikit-learn.org/stable/auto_examples/ensemble/plot_gradient_boosting_regression.html\n",
    "figsize(12,12)\n",
    "pos = np.arange(sorted_idx.shape[0]) + .5\n",
    "plt.rcParams[\"figure.figsize\"]=10,10\n",
    "plt.subplot(1, 1, 1)\n",
    "plt.barh(pos, feature_importance[important_idx][sorted_idx[::-1]], align='center')\n",
    "plt.yticks(pos, important_features[sorted_idx[::-1]])\n",
    "plt.xlabel('Relative Importance')\n",
    "plt.title('Variable Importance')\n",
    "plt.draw()\n",
    "#plt.show()\n",
    "\n",
    "# plt.savefig(\"ActivData01ImpFeatures.png\",dpi=120)"
   ]
  },
  {
   "cell_type": "code",
   "execution_count": 74,
   "metadata": {
    "collapsed": true
   },
   "outputs": [],
   "source": [
    "###########################################\n",
    "\n",
    "### Tovabbi iranyok/feladatok:\n",
    "\n",
    "# kulonbozoen beallitott random forest osszekapcsolasa\n",
    "# \n",
    "# a ket modszer osszekapcsolasa\n",
    "# \n",
    "# ...\n",
    "\n",
    "###########################################"
   ]
  },
  {
   "cell_type": "code",
   "execution_count": null,
   "metadata": {
    "collapsed": true
   },
   "outputs": [],
   "source": []
  }
 ],
 "metadata": {
  "kernelspec": {
   "display_name": "Python 3",
   "language": "python",
   "name": "python3"
  },
  "language_info": {
   "codemirror_mode": {
    "name": "ipython",
    "version": 3
   },
   "file_extension": ".py",
   "mimetype": "text/x-python",
   "name": "python",
   "nbconvert_exporter": "python",
   "pygments_lexer": "ipython3",
   "version": "3.6.2"
  }
 },
 "nbformat": 4,
 "nbformat_minor": 1
}
